{
 "cells": [
  {
   "cell_type": "markdown",
   "metadata": {},
   "source": [
    "# WiFi Headphones project\n",
    "\n",
    "The idea is to have wireless headphones using the ESP32 to recieve audio and then transmit it in a small package\n",
    "\n",
    "## Design Parameters\n",
    "\n",
    "- Battery operated, 2-3h\n",
    "- USB-C Charging\n",
    "- External antenna port available\n",
    "- Decent audio in-out using combo jack\n",
    "\n",
    "## Components\n",
    "\n",
    "- MCU: `ESP32-D0WD-V3`\n",
    "- Battery Charging: `BQ21062`\n",
    "- LDO: `TPS7A90`\n",
    "- Audio Codec: `SGTL5000`\n",
    "- Battery: 3.7V li-po 34 * 50mm (using `L573450`)\n",
    "\n",
    "## Power estimation\n",
    "\n",
    "MCU: 240mA @ 3.3V as per Table 15 in datasheet (pg 37)\n",
    "Codec: 3-5mA @ vbat\n",
    "\n",
    "assume 300mA worst case battery draw (at battery voltage because LDO)\n",
    "\n",
    "3h requires 900mAh battery\n",
    "\n",
    "Choose battery: 34 * 50mm size (common size)\n",
    "\n",
    "980mAh Cellevia L573450 li-po available from TME (5.7mm thick)\n",
    "\n",
    "Stack PCB on top of battery for compact design, so 34 * 50mm pcb"
   ]
  }
 ],
 "metadata": {
  "kernelspec": {
   "display_name": "Julia 1.5.3",
   "language": "julia",
   "name": "julia-1.5"
  },
  "language_info": {
   "file_extension": ".jl",
   "mimetype": "application/julia",
   "name": "julia",
   "version": "1.5.3"
  }
 },
 "nbformat": 4,
 "nbformat_minor": 4
}
